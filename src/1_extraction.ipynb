{
 "cells": [
  {
   "cell_type": "markdown",
   "metadata": {},
   "source": [
    "Radiomics features extraction  \n",
    "\n",
    "E. Lavrova  \n",
    "10.02.2020  \n",
    "\n",
    "\n",
    "ds1 - CRC Liege (private): training, MS/non-MS subjects, T1w + qMRI (PD, MT, R1, R2*)   \n",
    "ds2 - CC359 (https://sites.google.com/view/calgary-campinas-dataset/home/download): external validation, non-MS subjects, T1w  \n",
    "ds3 - MSSEG (https://portal.fli-iam.irisa.fr/msseg-challenge/overview): external validation, MS subjects, T1w \n",
    "  \n",
    "Don't forget to enable 'norm ROI' for T1w and disable for qMRI!"
   ]
  },
  {
   "cell_type": "code",
   "execution_count": 1,
   "metadata": {},
   "outputs": [],
   "source": [
    "import os\n",
    "import csv\n",
    "import pandas as pd\n",
    "import numpy as np\n",
    "import matplotlib.pyplot as plt\n",
    "import nilearn\n",
    "import nibabel as nib\n",
    "import glob\n",
    "import ntpath\n",
    "from tqdm import tqdm_notebook as tqdm\n",
    "import sys\n",
    "import SimpleITK as sitk\n",
    "from radiomics import featureextractor\n",
    "import numpy as np"
   ]
  },
  {
   "cell_type": "code",
   "execution_count": null,
   "metadata": {},
   "outputs": [],
   "source": [
    "import warnings\n",
    "warnings.filterwarnings(\"ignore\")"
   ]
  },
  {
   "cell_type": "markdown",
   "metadata": {},
   "source": [
    "# User-defined functions"
   ]
  },
  {
   "cell_type": "markdown",
   "metadata": {},
   "source": [
    "Image preprocessing: N4 bias field correction in ROI, percentile filtering, intensity normalization in ROI"
   ]
  },
  {
   "cell_type": "code",
   "execution_count": null,
   "metadata": {},
   "outputs": [],
   "source": [
    "def correctBiasField(img_input, mask):\n",
    "    \n",
    "    # N4 bias field correction (https://www.ncbi.nlm.nih.gov/pubmed/20378467) in ROI\n",
    "    \n",
    "    # input:\n",
    "    # img_input - original image to be corrected (3D array)\n",
    "    # mask - binary mask, representing ROI for correction (3D binary integer array with the same shape as img_input)\n",
    "    \n",
    "    # output:\n",
    "    # corrected image (3D array)\n",
    "\n",
    "    corrected = False\n",
    "    img_output = np.zeros(img_input.shape)\n",
    "\n",
    "    while not corrected:\n",
    "\n",
    "        try:\n",
    "            corrector = sitk.N4BiasFieldCorrectionImageFilter()\n",
    "            inputImage = sitk.GetImageFromArray(img_input)\n",
    "            maskImage = sitk.GetImageFromArray((mask > 0.9).astype(np.uint8))\n",
    "            inputImage = sitk.Cast(inputImage, sitk.sitkFloat32)\n",
    "            output = corrector.Execute(inputImage, maskImage)\n",
    "            img_output = sitk.GetArrayFromImage(output)\n",
    "            corrected = True\n",
    "        except:\n",
    "            print ('BFC failed')\n",
    "\n",
    "    return img_output\n",
    "\n",
    "\n",
    "def filterMedian(img_input, perc):\n",
    "    \n",
    "    # percentile filtering: \n",
    "    # threshold (non-linear) filtering with lower (perc percentile of image intensities distribution) \n",
    "    # and upper (100-perc percentile of image intensities distribution) thresholds;\n",
    "    # all image intensities below lower threshold are to be re-initialized with lower threshold intensity,\n",
    "    # all image intensities above upper threshold are to be re-initialized with upper threshold intensity\n",
    "    \n",
    "    # input:\n",
    "    # img_input - original image to be corrected (3D array)\n",
    "    # perc - percentile, defining lower threshold and symmetrical upper threshold (int < 50)\n",
    "    # (2*perc = ratio of intensities to be re-initialized)\n",
    "    \n",
    "    # output:\n",
    "    # filtered image (3D array)\n",
    "\n",
    "    img_flattened = img_input.flatten()\n",
    "\n",
    "    th_low = np.percentile(img_flattened, perc)\n",
    "    th_up = np.percentile(img_flattened, 100 - perc)\n",
    "\n",
    "    mask_low = img_input < th_low\n",
    "    mask_up = img_input > th_up\n",
    "\n",
    "    img_output = img_input * (1 - mask_up) + th_up * mask_up\n",
    "    img_output = img_output * (1 - mask_low) + th_low * mask_low\n",
    "\n",
    "    return img_output\n",
    "\n",
    "\n",
    "def normROI(img_input, mask):\n",
    "    \n",
    "    # intensity normalization in ROI: Z-scoring\n",
    "    \n",
    "    # input:\n",
    "    # img_input - original image to be corrected (3D array)\n",
    "    # mask - binary mask, representing ROI for correction (3D binary integer array with the same shape as img_input)\n",
    "    \n",
    "    # output:\n",
    "    # normalized image (3D array)\n",
    "    \n",
    "    mask_binary = (mask > 0.9).astype(int)\n",
    "    mask_nan = mask_binary / mask_binary\n",
    "    img_masked_nan = img_input * mask_nan\n",
    "\n",
    "    m = np.nanmean(img_masked_nan)\n",
    "    s = np.nanstd(img_masked_nan)\n",
    "\n",
    "    img_output = (img_input - m) * mask_binary / s\n",
    "\n",
    "    return img_output"
   ]
  },
  {
   "cell_type": "markdown",
   "metadata": {},
   "source": [
    "Features extraction: from original image, from pre-cropped area, with fixed bin number (50), 7 feature classes (first order, shape, GLCM, GLRLM, GLSZM, GLDM, NGTDM)"
   ]
  },
  {
   "cell_type": "code",
   "execution_count": null,
   "metadata": {},
   "outputs": [],
   "source": [
    "def extractFeatures(img_input, mask):\n",
    "    \n",
    "    # radiomics features extraction with pyradiomics package (https://www.radiomics.io)\n",
    "    \n",
    "    # input:\n",
    "    # img_input - original image to be corrected (3D array)\n",
    "    # mask - binary mask, representing ROI for correction (3D binary integer array with the same shape as img_input)\n",
    "    \n",
    "    # output:\n",
    "    # f_v - feature vector (dictionary: f_v[feature] = value)\n",
    "\n",
    "    i = sitk.GetImageFromArray(img_input)\n",
    "    m = sitk.GetImageFromArray(mask)\n",
    "    f_v = {}\n",
    "\n",
    "    settings = {}\n",
    "    settings['preCrop'] = True\n",
    "    settings['normalize'] = False\n",
    "\n",
    "    settings['binCount'] = 50\n",
    "    settings['resampledPixelSpacing'] = None\n",
    "    settings['interpolator'] = sitk.sitkBSpline\n",
    "\n",
    "    extractor = featureextractor.RadiomicsFeatureExtractor(**settings)\n",
    "\n",
    "    extractor.addProvenance(False)\n",
    "    extractor.disableAllFeatures()\n",
    "    extractor.enableImageTypes(Original={})\n",
    "\n",
    "    extractor.enableFeatureClassByName('firstorder', enabled=True)\n",
    "    extractor.enableFeatureClassByName('shape', enabled=True)\n",
    "    extractor.enableFeatureClassByName('glcm', enabled=True)\n",
    "    extractor.enableFeatureClassByName('glrlm', enabled=True)\n",
    "    extractor.enableFeatureClassByName('glszm', enabled=True)\n",
    "    extractor.enableFeatureClassByName('gldm', enabled=True)\n",
    "    extractor.enableFeatureClassByName('ngtdm', enabled=True)\n",
    "\n",
    "    extracted_ftrs = extractor.execute(i, m)\n",
    "\n",
    "    for key, value in extracted_ftrs.items():\n",
    "        f_v[key] = value\n",
    "\n",
    "    return f_v\n",
    "\n",
    "\n",
    "def createHeader():\n",
    "    \n",
    "    # creates dataset header for extractFeatures extractor\n",
    "    \n",
    "    # input:\n",
    "    # void\n",
    "    \n",
    "    # output:\n",
    "    # list: ['sub', '{feature_0}', '{feature_1}', ..., '{feature_N}']\n",
    "    \n",
    "    f = {'sub': ''}\n",
    "    i_t = np.ones((2, 2, 2))\n",
    "    m_t = np.zeros((2, 2, 2))\n",
    "    m_t[0, 0, 0] = 1\n",
    "    m_t[1, 1, 1] = 1\n",
    "    f.update(extractFeatures(i_t, m_t))\n",
    "\n",
    "    return list(f.keys())\n",
    "\n",
    "\n",
    "def extractFrom3TissuesThroughSubFolders(ds_folder, ds_names, modality_name, \n",
    "                                        img_name_template, \n",
    "                                        roi_NAWM_name_template, \n",
    "                                        roi_GM_name_template, norm = True,\n",
    "                                        roi_icv_name_template = 'icv', \n",
    "                                        roi_les_name_template = 'lesion', \n",
    "                                        roi_CSF_name_template = 'CSF'):\n",
    "    \n",
    "    # features extraction with extractFeatures function, performed through all the subjects of the given dataset\n",
    "    # separate subjects' folders with imaging data (MRI + tissues masks) are to be situated in dataset directory\n",
    "    # extracts features from the given image from 3 tissue types: WM, NAWM, GM\n",
    "    # to form ICV mask for intensities normalization, either ICV mask, or CSF mask is required\n",
    "    # if lesion mask is not presented, it is assumed, that roi_WM == roi_NAWM\n",
    "    \n",
    "    # input:\n",
    "    # ds_folder: name of dataset directory (string)\n",
    "    # ds_names: names of subjects from dataset to be included into the study (list of string)\n",
    "    # modality_name: name of MRI modality to be indicated in output .csv file name (string)\n",
    "    # img_name_template: MRI base filename pattern (string)\n",
    "    # roi_NAWM_name_template: NAWM mask base filename pattern (string)\n",
    "    # roi_GM_name_template: GM mask base filename pattern (string)\n",
    "    # roi_icv_name_template: ICV mask base filename pattern (string)\n",
    "    # roi_les_name_template: lesion mask base filename pattern (string)\n",
    "    # roi_CSF_name_template: CSF mask base filename pattern (string)\n",
    "    \n",
    "    # output:\n",
    "    # void: saves 'features_{dataset} _ {modality} _ {tissue}.csv' files with features values \n",
    "    # for different tissue types into dataset directory  \n",
    "    \n",
    "    ds_name = ds_folder.split('/')[-2]\n",
    "    \n",
    "    h = createHeader()\n",
    "\n",
    "    csv_file_WM = open('../results/features/features_' + ds_name + '_' + modality_name + '_WM.csv', 'w')\n",
    "    writer_WM = csv.DictWriter(csv_file_WM, fieldnames = h, lineterminator='\\n')\n",
    "    writer_WM.writeheader()\n",
    "\n",
    "    csv_file_NAWM = open('../results/features/features_' + ds_name + '_' + modality_name + '_NAWM.csv', 'w')\n",
    "    writer_NAWM = csv.DictWriter(csv_file_NAWM, fieldnames = h, lineterminator='\\n')\n",
    "    writer_NAWM.writeheader()\n",
    "\n",
    "    csv_file_GM = open('../results/features/features_' + ds_name + '_' + modality_name + '_GM.csv', 'w')\n",
    "    writer_GM = csv.DictWriter(csv_file_GM, fieldnames = h, lineterminator='\\n')\n",
    "    writer_GM.writeheader()\n",
    "    \n",
    "    \n",
    "    with tqdm(total=len(ds_names), file=sys.stdout) as pbar:        \n",
    "        for sub in ds_names:\n",
    "\n",
    "            img_name = glob.glob(ds_folder + sub + '/' + img_name_template)[0]\n",
    "            img_nii = nib.load(img_name)\n",
    "            img = img_nii.get_fdata()\n",
    "            \n",
    "            roi_NAWM_name = glob.glob(ds_folder + sub + '/' + roi_NAWM_name_template)[0]\n",
    "            roi_NAWM_nii = nib.load(roi_NAWM_name)\n",
    "            roi_NAWM = roi_NAWM_nii.get_fdata()\n",
    "            \n",
    "            roi_WM = np.copy(roi_NAWM)\n",
    "\n",
    "            roi_GM_name = glob.glob(ds_folder + sub + '/' + roi_GM_name_template)[0]\n",
    "            roi_GM_nii = nib.load(roi_GM_name)\n",
    "            roi_GM = roi_GM_nii.get_fdata()\n",
    "            \n",
    "            if len(glob.glob(ds_folder + sub + '/' + roi_les_name_template))>0:\n",
    "                roi_les_name = glob.glob(ds_folder + sub + '/' + roi_les_name_template)[0]\n",
    "                roi_les_nii = nib.load(roi_les_name)\n",
    "                roi_WM += roi_les_nii.get_fdata()\n",
    "\n",
    "            if len(glob.glob(ds_folder + sub + '/' + roi_icv_name_template))>0:\n",
    "                roi_icv_name = glob.glob(ds_folder + sub + '/' + roi_icv_name_template)[0]\n",
    "                roi_icv_nii = nib.load(roi_icv_name)\n",
    "                roi_icv = roi_icv_nii.get_fdata()\n",
    "                \n",
    "            if len(glob.glob(ds_folder + sub + '/' + roi_CSF_name_template))>0:\n",
    "                roi_CSF_name = glob.glob(ds_folder + sub + '/' + roi_CSF_name_template)[0]\n",
    "                roi_CSF_nii = nib.load(roi_CSF_name)\n",
    "                roi_icv = roi_CSF_nii.get_fdata() + roi_WM + roi_GM\n",
    "                \n",
    "            roi_icv = (roi_icv > 0.9).astype(int)\n",
    "            roi_WM = (roi_WM > 0.9).astype(int)\n",
    "            roi_NAWM = (roi_NAWM > 0.9).astype(int)\n",
    "            roi_GM = (roi_GM > 0.9).astype(int)\n",
    "            \n",
    "            img_preproc = np.copy(img)\n",
    "\n",
    "            if norm == True:\n",
    "                img_preproc = normROI(img_preproc, roi_icv)\n",
    "\n",
    "            f_sub_WM = {'sub': sub}\n",
    "            f_sub_WM.update(extractFeatures(img_preproc, roi_WM))\n",
    "            writer_WM.writerow(f_sub_WM)\n",
    "\n",
    "            f_sub_NAWM = {'sub': sub}\n",
    "            f_sub_NAWM.update(extractFeatures(img_preproc, roi_NAWM))\n",
    "            writer_NAWM.writerow(f_sub_NAWM)\n",
    "\n",
    "            f_sub_GM = {'sub': sub}\n",
    "            f_sub_GM.update(extractFeatures(img_preproc, roi_GM))\n",
    "            writer_GM.writerow(f_sub_GM)\n",
    "\n",
    "            pbar.set_description('processed: %s' % sub)\n",
    "            pbar.update(1)\n",
    "\n",
    "\n",
    "    csv_file_WM.close()\n",
    "    csv_file_NAWM.close()\n",
    "    csv_file_GM.close()"
   ]
  },
  {
   "cell_type": "code",
   "execution_count": 2,
   "metadata": {},
   "outputs": [],
   "source": [
    "ds1_folder = '../data/CRC/'\n",
    "ds2_folder = '../data/CC359/'\n",
    "ds3_folder = '../data/MSSEG/'"
   ]
  },
  {
   "cell_type": "markdown",
   "metadata": {},
   "source": [
    "# Resampling"
   ]
  },
  {
   "cell_type": "markdown",
   "metadata": {},
   "source": [
    "Images resampling to 1x1x1 voxel size (DS2 and DS3)"
   ]
  },
  {
   "cell_type": "code",
   "execution_count": null,
   "metadata": {},
   "outputs": [],
   "source": [
    "# DS2\n",
    "for i in range (1, 360):\n",
    "    T1_filename = glob.glob(ds2_folder + '/CC0' + format(i, '03d') + '*.nii.gz')[0]\n",
    "    T1_nii = nib.load(T1_filename)\n",
    "    if T1_nii.header.get_zooms() != (1, 1, 1):\n",
    "        T1_nii_resampled = nib.processing.resample_to_output(T1_nii, voxel_sizes=(1, 1, 1))\n",
    "        nib.save(T1_nii_resampled, T1_filename)"
   ]
  },
  {
   "cell_type": "code",
   "execution_count": null,
   "metadata": {},
   "outputs": [],
   "source": [
    "# DS3\n",
    "for item in os.listdir(ds3_folder):\n",
    "    path = os.path.join(subs_dir, item)\n",
    "    if os.path.isdir(path): \n",
    "        T1_filename = path + '/3DT1.nii'\n",
    "        T1_nii = nib.load(T1_filename)\n",
    "        if T1_nii.header.get_zooms() != (1, 1, 1):     \n",
    "            T1_nii_resampled = nib.processing.resample_to_output(T1_nii, voxel_sizes=(1, 1, 1))\n",
    "            nib.save(T1_nii_resampled, T1_filename)"
   ]
  },
  {
   "cell_type": "markdown",
   "metadata": {},
   "source": [
    "# Brain tissues segmentation"
   ]
  },
  {
   "cell_type": "markdown",
   "metadata": {},
   "source": [
    "Performed in MATLAB with SPM12 (URL: http://www.fil.ion.ucl.ac.uk/spm).  \n",
    "* DS1: for MSP - LST (URL: https://www.applied-statistics.de/lst.html) for lesions segmentation, then brain tissues segmentation with US-with-Lesion (URL: https://github.com/CyclotronResearchCentre/USwLesion) for hMRI (https://hmri-group.github.io/hMRI-toolbox/); for HCS - unified segmentation with hMRI;  \n",
    "* DS2: unified segmentation with SPM12;  \n",
    "* DS3: LST for lesions segmentation, then brain tissues segmentation with US-with-Lesion"
   ]
  },
  {
   "cell_type": "markdown",
   "metadata": {},
   "source": [
    "## Mask correction for MSPA015"
   ]
  },
  {
   "cell_type": "markdown",
   "metadata": {},
   "source": [
    "Cerebellum is not presented at the images -> need to crop the masks"
   ]
  },
  {
   "cell_type": "code",
   "execution_count": null,
   "metadata": {},
   "outputs": [],
   "source": [
    "patterns = ['c1*.nii', 'c2*.nii', 'c3*.nii', 'icv*.nii']\n",
    "\n",
    "for pattern in patterns:\n",
    "    img_name = glob.glob(ds1_folder + '/MSPA015/' + pattern)[0]\n",
    "    img_nii = nib.load(img_name)\n",
    "    img = img_nii.get_fdata()\n",
    "    img[:, :50, :] = np.zeros(img[:, :50, :].shape)\n",
    "    img_nii = nib.Nifti1Image(img, img_nii.affine, img_nii.header)\n",
    "    nib.save(img_nii, img_name)"
   ]
  },
  {
   "cell_type": "markdown",
   "metadata": {},
   "source": [
    "# Bias field correction"
   ]
  },
  {
   "cell_type": "markdown",
   "metadata": {},
   "source": [
    "DS1: BFC for T1w images in ICV; corrected image is to be saved in the same folder as the original one, under the same name, with '_preprocessed' index "
   ]
  },
  {
   "cell_type": "code",
   "execution_count": null,
   "metadata": {},
   "outputs": [],
   "source": [
    "for sub in ds1_names:\n",
    "    \n",
    "    t1w_name = glob.glob(ds1_folder + 'sub-' + sub + '/sub-*T1w*.nii')[0]\n",
    "    t1w_nii = nib.load(t1w_name)\n",
    "    t1w = t1w_nii.get_fdata()\n",
    "    \n",
    "    icv_name = glob.glob(ds1_folder + 'sub-' + sub + '/icv*.nii')[0]\n",
    "    icv_nii = nib.load(icv_name)\n",
    "    icv = icv_nii.get_fdata()\n",
    "    \n",
    "    t1w_bfc = correctBiasField(t1w, icv)\n",
    "    t1w_bfc_nii = nib.Nifti1Image(t1w_bfc, t1w_nii.affine)\n",
    "    nib.save(t1w_bfc_nii, ntpath.basename(t1w_name)[:-4] + '_preprocessed.nii')"
   ]
  },
  {
   "cell_type": "markdown",
   "metadata": {},
   "source": [
    "DS2: BFC for T1w images in ICV (c1 + c2 + c3 masks == GM + WM + CSF masks); corrected image is to be saved in the same folder as the original one, under the same name, with '_preprocessed' index "
   ]
  },
  {
   "cell_type": "code",
   "execution_count": null,
   "metadata": {},
   "outputs": [],
   "source": [
    "for sub in ds2_names:\n",
    "    \n",
    "    t1w_name = glob.glob(ds2_folder + sub + '/' + sub + '*.nii')[0]\n",
    "    t1w_nii = nib.load(t1w_name)\n",
    "    t1w = t1w_nii.get_fdata()\n",
    "    \n",
    "    roi_GM_name = glob.glob(ds2_folder + sub + '/c1' + sub + '*.nii')[0]\n",
    "    roi_GM_nii = nib.load(roi_GM_name)\n",
    "    roi_GM = roi_GM_nii.get_fdata()\n",
    "    \n",
    "    roi_WM_name = glob.glob(ds2_folder + sub + '/c2' + sub + '*.nii')[0]\n",
    "    roi_WM_nii = nib.load(roi_WM_name)\n",
    "    roi_WM = roi_WM_nii.get_fdata()\n",
    "    \n",
    "    roi_CSF_name = glob.glob(ds2_folder + sub + '/c3' + sub + '*.nii')[0]\n",
    "    roi_CSF_nii = nib.load(roi_CSF_name)\n",
    "    roi_CSF = roi_CSF_nii.get_fdata()\n",
    "    \n",
    "    icv = ((roi_GM + roi_WM + roi_CSF) > 0.9).astype(int)\n",
    "    \n",
    "    t1w_bfc = correctBiasField(t1w, icv)\n",
    "    t1w_bfc_nii = nib.Nifti1Image(t1w_bfc, t1w_nii.affine)\n",
    "    nib.save(t1w_bfc_nii, ntpath.basename(t1w_name)[:-4] + '_preprocessed.nii')"
   ]
  },
  {
   "cell_type": "markdown",
   "metadata": {},
   "source": [
    "DS3: BFC for T1w images in ICV; corrected image is to be saved in the same folder as the original one, under the same name, with '_preprocessed' index "
   ]
  },
  {
   "cell_type": "code",
   "execution_count": null,
   "metadata": {},
   "outputs": [],
   "source": [
    "for sub in ds3_names:\n",
    "    \n",
    "    t1w_name = ds3_folder + sub + '/3DT1.nii'\n",
    "    t1w_nii = nib.load(t1w_name)\n",
    "    t1w = t1w_nii.get_fdata()\n",
    "    \n",
    "    icv_name = ds3_folder + sub + '/icv_k3DT1.nii'\n",
    "    icv_nii = nib.load(icv_name)\n",
    "    icv = icv_nii.get_fdata()\n",
    "    \n",
    "    t1w_bfc = correctBiasField(t1w, icv)\n",
    "    t1w_bfc_nii = nib.Nifti1Image(t1w_bfc, t1w_nii.affine)\n",
    "    nib.save(t1w_bfc_nii, ds3_folder + sub + '/3DT1_preprocessed.nii')"
   ]
  },
  {
   "cell_type": "markdown",
   "metadata": {},
   "source": [
    "# Subjects selection"
   ]
  },
  {
   "cell_type": "markdown",
   "metadata": {},
   "source": [
    "Loading .csv files with demographic and acquisition description of participating subjects"
   ]
  },
  {
   "cell_type": "code",
   "execution_count": 3,
   "metadata": {},
   "outputs": [],
   "source": [
    "ds1 = pd.read_csv('../data/description/CRC_description.csv')\n",
    "ds2 = pd.read_csv('../data/description/CC359_description.csv')\n",
    "ds3 = pd.read_csv('../data/description/MSSEG_description.csv')\n",
    "\n",
    "ds1.set_index('sub', inplace = True)\n",
    "ds2.set_index('sub', inplace = True)\n",
    "ds3.set_index('name', inplace = True)"
   ]
  },
  {
   "cell_type": "markdown",
   "metadata": {},
   "source": [
    "Subjects to remove from the datasets because of poor image quality"
   ]
  },
  {
   "cell_type": "code",
   "execution_count": 4,
   "metadata": {},
   "outputs": [],
   "source": [
    "ds1_names_to_remove = []\n",
    "ds2_names_to_remove = ['CC0087', 'CC0097', 'CC0209', 'CC0216', 'CC0220']\n",
    "ds3_names_to_remove = []\n",
    "\n",
    "ds1.drop(ds1_names_to_remove, axis = 0, inplace = True)\n",
    "ds2.drop(ds2_names_to_remove, axis = 0, inplace = True)\n",
    "ds3.drop(ds3_names_to_remove, axis = 0, inplace = True)"
   ]
  },
  {
   "cell_type": "markdown",
   "metadata": {},
   "source": [
    "External validation subjects selection, based on:  \n",
    "- age: should not be out of range, presented in training dataset ds1,  \n",
    "- magnetic field strength: 3T, as training dataset ds1 contains 3T-scanner data only (note: in ds3, center with label '7', used 1.5-scanner data)"
   ]
  },
  {
   "cell_type": "code",
   "execution_count": 5,
   "metadata": {},
   "outputs": [],
   "source": [
    "age_min = ds1.age.min()\n",
    "age_max = ds1.age.max()\n",
    "\n",
    "ds2_selected = ds2.loc[(ds2.field == 3)&(ds2.age <= age_max)&(ds2.age >= age_min)]\n",
    "ds3_selected = ds3.loc[(ds3.center != 7)&(ds3.age <= age_max)&(ds3.age >= age_min)]"
   ]
  },
  {
   "cell_type": "markdown",
   "metadata": {},
   "source": [
    "Data description for ds1, ds2, ds3 after validation subjects selection"
   ]
  },
  {
   "cell_type": "code",
   "execution_count": 6,
   "metadata": {},
   "outputs": [
    {
     "data": {
      "text/html": [
       "<div>\n",
       "<style scoped>\n",
       "    .dataframe tbody tr th:only-of-type {\n",
       "        vertical-align: middle;\n",
       "    }\n",
       "\n",
       "    .dataframe tbody tr th {\n",
       "        vertical-align: top;\n",
       "    }\n",
       "\n",
       "    .dataframe thead th {\n",
       "        text-align: right;\n",
       "    }\n",
       "</style>\n",
       "<table border=\"1\" class=\"dataframe\">\n",
       "  <thead>\n",
       "    <tr style=\"text-align: right;\">\n",
       "      <th></th>\n",
       "      <th>ds</th>\n",
       "      <th>size</th>\n",
       "      <th>age_mean</th>\n",
       "      <th>age_std</th>\n",
       "      <th>age_min</th>\n",
       "      <th>age_max</th>\n",
       "      <th>gender_male</th>\n",
       "      <th>gender_female</th>\n",
       "    </tr>\n",
       "  </thead>\n",
       "  <tbody>\n",
       "    <tr>\n",
       "      <th>0</th>\n",
       "      <td>ds1</td>\n",
       "      <td>72</td>\n",
       "      <td>45.791667</td>\n",
       "      <td>12.056133</td>\n",
       "      <td>21</td>\n",
       "      <td>65</td>\n",
       "      <td>31</td>\n",
       "      <td>41</td>\n",
       "    </tr>\n",
       "    <tr>\n",
       "      <th>1</th>\n",
       "      <td>ds2</td>\n",
       "      <td>167</td>\n",
       "      <td>52.706587</td>\n",
       "      <td>7.309271</td>\n",
       "      <td>29</td>\n",
       "      <td>65</td>\n",
       "      <td>82</td>\n",
       "      <td>85</td>\n",
       "    </tr>\n",
       "    <tr>\n",
       "      <th>2</th>\n",
       "      <td>ds3</td>\n",
       "      <td>10</td>\n",
       "      <td>40.500000</td>\n",
       "      <td>10.772908</td>\n",
       "      <td>24</td>\n",
       "      <td>55</td>\n",
       "      <td>5</td>\n",
       "      <td>5</td>\n",
       "    </tr>\n",
       "  </tbody>\n",
       "</table>\n",
       "</div>"
      ],
      "text/plain": [
       "    ds  size   age_mean    age_std  age_min  age_max  gender_male  \\\n",
       "0  ds1    72  45.791667  12.056133       21       65           31   \n",
       "1  ds2   167  52.706587   7.309271       29       65           82   \n",
       "2  ds3    10  40.500000  10.772908       24       55            5   \n",
       "\n",
       "   gender_female  \n",
       "0             41  \n",
       "1             85  \n",
       "2              5  "
      ]
     },
     "execution_count": 6,
     "metadata": {},
     "output_type": "execute_result"
    }
   ],
   "source": [
    "description = []\n",
    "description.append({'ds': 'ds1', 'size': len(ds1),\n",
    "                    'age_mean': ds1.age.mean(), 'age_std': ds1.age.std(),\n",
    "                    'age_min': ds1.age.min(), 'age_max': ds1.age.max(),\n",
    "                    'gender_male': len(ds1.loc[ds1.gender == 'M']), \n",
    "                    'gender_female': len(ds1.loc[ds1.gender == 'F'])})\n",
    "description.append({'ds': 'ds2', 'size': len(ds2_selected),\n",
    "                    'age_mean': ds2_selected.age.mean(), 'age_std': ds2_selected.age.std(),\n",
    "                    'age_min': ds2_selected.age.min(), 'age_max': ds2_selected.age.max(),  \n",
    "                    'gender_male': len(ds2_selected.loc[ds2_selected.gender == 'M']), \n",
    "                    'gender_female': len(ds2_selected.loc[ds2_selected.gender == 'F'])})\n",
    "description.append({'ds': 'ds3', 'size': len(ds3_selected),\n",
    "                    'age_mean': ds3_selected.age.mean(), 'age_min': ds3_selected.age.min(), \n",
    "                    'age_max': ds3_selected.age.max(), 'age_std': ds3_selected.age.std(), \n",
    "                    'gender_male': len(ds3_selected.loc[ds3_selected.gender == 'M']), \n",
    "                    'gender_female': len(ds3_selected.loc[ds3_selected.gender == 'F'])})\n",
    "description = pd.DataFrame(description, \n",
    "                           columns = ['ds', 'size', \n",
    "                                      'age_mean', 'age_std', 'age_min', 'age_max', \n",
    "                                      'gender_male', 'gender_female'])\n",
    "\n",
    "description"
   ]
  },
  {
   "cell_type": "markdown",
   "metadata": {},
   "source": [
    "Comparison of age and gender variable distributions between HCS and MSP in DS1 and validation data, and between development and validation data"
   ]
  },
  {
   "cell_type": "code",
   "execution_count": null,
   "metadata": {},
   "outputs": [],
   "source": [
    "# age in HCS and MSP cohorts of DS1 (Mann-Whitney test)\n",
    "sp.stats.mannwhitneyu(ds1.loc[ds1.outcome == 0].age, ds1.loc[ds1.outcome == 1].age, alternative= 'two-sided')"
   ]
  },
  {
   "cell_type": "code",
   "execution_count": null,
   "metadata": {},
   "outputs": [],
   "source": [
    "# gender in HCS and MSP cohorts of DS2 (Fisher's exact test)\n",
    "sp.stats.fisher_exact([[len(ds1.loc[ds1.outcome == 0].loc[ds1.loc[ds1.outcome == 0].gender == 'M']), \n",
    "                        len(ds1.loc[ds1.outcome == 1].loc[ds1.loc[ds1.outcome == 1].gender == 'M'])], \n",
    "                       [len(ds1.loc[ds1.outcome == 0].loc[ds1.loc[ds1.outcome == 0].gender == 'F']), \n",
    "                        len(ds1.loc[ds1.outcome == 1].loc[ds1.loc[ds1.outcome == 1].gender == 'F'])]])"
   ]
  },
  {
   "cell_type": "code",
   "execution_count": null,
   "metadata": {},
   "outputs": [],
   "source": [
    "# age in HCS and MSP cohorts of validation data (DS2+DS3) (Mann-Whitney test)\n",
    "sp.stats.mannwhitneyu(ds2_selected.age, ds3_selected.age, alternative= 'two-sided')"
   ]
  },
  {
   "cell_type": "code",
   "execution_count": null,
   "metadata": {},
   "outputs": [],
   "source": [
    "# gender in HCS and MSP cohorts of validation data (DS2+DS3) (Fisher's exact test)\n",
    "sp.stats.fisher_exact([[len(ds3_selected.loc[ds3_selected.gender == 'M']), \n",
    "                        len(ds2_selected.loc[ds2_selected.gender == 'M'])], \n",
    "                       [len(ds3_selected.loc[ds3_selected.gender == 'F']), \n",
    "                        len(ds2_selected.loc[ds2_selected.gender == 'F'])]])"
   ]
  },
  {
   "cell_type": "code",
   "execution_count": null,
   "metadata": {},
   "outputs": [],
   "source": [
    "# age in development (DS1) and validation (DS2+DS3) data (Mann-Whitney test)\n",
    "sp.stats.mannwhitneyu(ds1.age, pd.concat([ds1.age, ds3_selected.age]), alternative= 'two-sided')"
   ]
  },
  {
   "cell_type": "code",
   "execution_count": null,
   "metadata": {},
   "outputs": [],
   "source": [
    "# gender in development (DS1) and validation (DS2+DS3) data (Fisher's exact test)\n",
    "sp.stats.fisher_exact([[len(ds3_selected.loc[ds3_selected.gender == 'M'])+len(ds2_selected.loc[ds2_selected.gender == 'M']), \n",
    "                        len(ds1.loc[ds1.gender == 'M'])], \n",
    "                       [len(ds3_selected.loc[ds3_selected.gender == 'F'])+len(ds2_selected.loc[ds2_selected.gender == 'F']), \n",
    "                        len(ds1.loc[ds1.gender == 'F'])]])"
   ]
  },
  {
   "cell_type": "markdown",
   "metadata": {},
   "source": [
    "Lists of subjects from ds1, ds2, ds3, included in analysis: create and save to txt files"
   ]
  },
  {
   "cell_type": "code",
   "execution_count": null,
   "metadata": {},
   "outputs": [],
   "source": [
    "ds1_names = list(ds1.index)\n",
    "ds2_names = list(ds2_selected.index)\n",
    "ds3_names = list(ds3_selected.index)\n",
    "\n",
    "with open(\"../results/names/ds1_names.txt\", \"w\") as output:\n",
    "    for name in ds1_names:\n",
    "        output.write(str(name) + '\\n')\n",
    "\n",
    "with open(\"../results/names/ds2_names.txt\", \"w\") as output:\n",
    "    for name in ds2_names:\n",
    "        output.write(str(name) + '\\n')\n",
    "        \n",
    "with open(\"../results/names/ds3_names.txt\", \"w\") as output:\n",
    "    for name in ds3_names:\n",
    "        output.write(str(name) + '\\n')"
   ]
  },
  {
   "cell_type": "markdown",
   "metadata": {},
   "source": [
    "# Features extraction"
   ]
  },
  {
   "cell_type": "markdown",
   "metadata": {},
   "source": [
    "## Conventional MRI: T1w"
   ]
  },
  {
   "cell_type": "markdown",
   "metadata": {},
   "source": [
    "ds1: extraction of T1w-based features from WM, NAWM, GM; feature values are sent to .csv file 'features_{dataset} _ {modality} _ {tissue}.csv'"
   ]
  },
  {
   "cell_type": "code",
   "execution_count": null,
   "metadata": {},
   "outputs": [],
   "source": [
    "extractFrom3TissuesThroughSubFolders(ds1_folder, ds1_names, 'T1w',\n",
    "                                    'T1_preprocessed.nii', \n",
    "                                    'c2ktsub*.nii', \n",
    "                                    'c1ktsub*.nii', \n",
    "                                    roi_icv_name_template = 'icv*.nii', \n",
    "                                    roi_les_name_template = 'c3ktsub*.nii')"
   ]
  },
  {
   "cell_type": "markdown",
   "metadata": {},
   "source": [
    "ds2: extraction of T1w-based features from WM, NAWM, GM; feature values are sent to .csv file 'features_{dataset} _ {modality} _ {tissue}.csv'"
   ]
  },
  {
   "cell_type": "code",
   "execution_count": null,
   "metadata": {},
   "outputs": [],
   "source": [
    "extractFrom3TissuesThroughSubFolders(ds2_folder, ds2_names, 'T1w',\n",
    "                                    'CC*.nii', \n",
    "                                    'c2CC*.nii', \n",
    "                                    'c1CC*.nii',  \n",
    "                                    roi_CSF_name_template = 'c3CC*.nii')"
   ]
  },
  {
   "cell_type": "markdown",
   "metadata": {},
   "source": [
    "ds3: extraction of T1w-based features from WM, NAWM, GM; feature values are sent to .csv file 'features_{dataset} _ {modality} _ {tissue}.csv'"
   ]
  },
  {
   "cell_type": "code",
   "execution_count": null,
   "metadata": {
    "scrolled": true
   },
   "outputs": [],
   "source": [
    "extractFrom3TissuesThroughSubFolders(ds3_folder, ds3_names, 'T1w',\n",
    "                                    '3DT1.nii', \n",
    "                                    'c2k3DT1.nii', \n",
    "                                    'c1k3DT1.nii',\n",
    "                                     roi_icv_name_template = 'icv_k3DT1.nii',\n",
    "                                     roi_les_name_template = 'c3k3DT1.nii')"
   ]
  },
  {
   "cell_type": "markdown",
   "metadata": {},
   "source": [
    "## qMRI"
   ]
  },
  {
   "cell_type": "markdown",
   "metadata": {},
   "source": [
    "Extraction of qMRI-based features from WM, NAWM, GM; feature values are sent to .csv file 'features_{dataset} _ {modality} _ {tissue}.csv';  \n",
    "For ds1 only, as it uniquely contains qMRI data"
   ]
  },
  {
   "cell_type": "markdown",
   "metadata": {},
   "source": [
    "PD"
   ]
  },
  {
   "cell_type": "code",
   "execution_count": null,
   "metadata": {},
   "outputs": [],
   "source": [
    "extractFrom3TissuesThroughSubFolders(ds1_folder, ds1_names, 'PD',\n",
    "                                    'ktsub*_PD.nii', \n",
    "                                    'c2ktsub*.nii', \n",
    "                                    'c1ktsub*.nii', norm = False,\n",
    "                                    roi_icv_name_template = 'icv*.nii', \n",
    "                                    roi_les_name_template = 'c3ktsub*.nii')"
   ]
  },
  {
   "cell_type": "markdown",
   "metadata": {},
   "source": [
    "MT"
   ]
  },
  {
   "cell_type": "code",
   "execution_count": null,
   "metadata": {},
   "outputs": [],
   "source": [
    "extractFrom3TissuesThroughSubFolders(ds1_folder, ds1_names, 'MT',\n",
    "                                    'ktsub*_MT.nii', \n",
    "                                    'c2ktsub*.nii', \n",
    "                                    'c1ktsub*.nii', norm = False,\n",
    "                                    roi_icv_name_template = 'icv*.nii', \n",
    "                                    roi_les_name_template = 'c3ktsub*.nii')"
   ]
  },
  {
   "cell_type": "markdown",
   "metadata": {},
   "source": [
    "R1"
   ]
  },
  {
   "cell_type": "code",
   "execution_count": null,
   "metadata": {},
   "outputs": [],
   "source": [
    "extractFrom3TissuesThroughSubFolders(ds1_folder, ds1_names, 'R1',\n",
    "                                    'ktsub*_R1.nii', \n",
    "                                    'c2ktsub*.nii', \n",
    "                                    'c1ktsub*.nii', norm = False,\n",
    "                                    roi_icv_name_template = 'icv*.nii', \n",
    "                                    roi_les_name_template = 'c3ktsub*.nii')"
   ]
  },
  {
   "cell_type": "markdown",
   "metadata": {},
   "source": [
    "R2*"
   ]
  },
  {
   "cell_type": "code",
   "execution_count": null,
   "metadata": {},
   "outputs": [],
   "source": [
    "extractFrom3TissuesThroughSubFolders(ds1_folder, ds1_names, 'R2s',\n",
    "                                    'ktsub*_R2s_OLS.nii', \n",
    "                                    'c2ktsub*.nii', \n",
    "                                    'c1ktsub*.nii', norm = False,\n",
    "                                    roi_icv_name_template = 'icv*.nii', \n",
    "                                    roi_les_name_template = 'c3ktsub*.nii')"
   ]
  },
  {
   "cell_type": "markdown",
   "metadata": {},
   "source": [
    "Merging datasets to get combined qMRI data"
   ]
  },
  {
   "cell_type": "markdown",
   "metadata": {},
   "source": [
    "WM"
   ]
  },
  {
   "cell_type": "code",
   "execution_count": null,
   "metadata": {},
   "outputs": [],
   "source": [
    "filename_PD = \"../results/features/features_CRC_PD_WM.csv\"\n",
    "filename_MT = \"../results/features/features_CRC_MT_WM.csv\"\n",
    "filename_R1 = \"../results/features/features_CRC_R1_WM.csv\"\n",
    "filename_R2 = \"../results/features/features_CRC_R2s_WM.csv\"\n",
    "\n",
    "df_PD = pd.read_csv(filename_PD)\n",
    "df_MT = pd.read_csv(filename_MT)\n",
    "df_R1 = pd.read_csv(filename_R1)\n",
    "df_R2 = pd.read_csv(filename_R2)\n",
    "\n",
    "df_PD.set_index('sub', inplace = True)\n",
    "df_MT.set_index('sub', inplace = True)\n",
    "df_R1.set_index('sub', inplace = True)\n",
    "df_R2.set_index('sub', inplace = True)\n",
    "\n",
    "features = df_PD.columns[14:-1]\n",
    "\n",
    "for feature in features:\n",
    "    \n",
    "    df_PD.rename(columns={feature: 'PD_' + feature[9:]}, inplace=True)\n",
    "    df_MT.rename(columns={feature: 'MT_' + feature[9:]}, inplace=True)\n",
    "    df_R1.rename(columns={feature: 'R1_' + feature[9:]}, inplace=True)\n",
    "    df_R2.rename(columns={feature: 'R2_' + feature[9:]}, inplace=True)\n",
    "    \n",
    "df = pd.concat([df_PD[df_PD.columns[:-1]], df_MT[df_MT.columns[14:-1]], \n",
    "                df_R1[df_R1.columns[14:-1]], \n",
    "                df_R2[df_R2.columns[14:-1]], df_MT.outcome], axis = 1)\n",
    "\n",
    "df.to_csv(\"../results/features/features_CRC_qMRI_WM.csv\")"
   ]
  },
  {
   "cell_type": "markdown",
   "metadata": {},
   "source": [
    "NAWM"
   ]
  },
  {
   "cell_type": "code",
   "execution_count": null,
   "metadata": {},
   "outputs": [],
   "source": [
    "filename_PD = \"../results/features/features_CRC_PD_NAWM.csv\"\n",
    "filename_MT = \"../results/features/features_CRC_MT_NAWM.csv\"\n",
    "filename_R1 = \"../results/features/features_CRC_R1_NAWM.csv\"\n",
    "filename_R2 = \"../results/features/features_CRC_R2s_NAWM.csv\"\n",
    "\n",
    "df_PD = pd.read_csv(filename_PD)\n",
    "df_MT = pd.read_csv(filename_MT)\n",
    "df_R1 = pd.read_csv(filename_R1)\n",
    "df_R2 = pd.read_csv(filename_R2)\n",
    "\n",
    "df_PD.set_index('sub', inplace = True)\n",
    "df_MT.set_index('sub', inplace = True)\n",
    "df_R1.set_index('sub', inplace = True)\n",
    "df_R2.set_index('sub', inplace = True)\n",
    "\n",
    "features = df_PD.columns[14:-1]\n",
    "\n",
    "for feature in features:\n",
    "    \n",
    "    df_PD.rename(columns={feature: 'PD_' + feature[9:]}, inplace=True)\n",
    "    df_MT.rename(columns={feature: 'MT_' + feature[9:]}, inplace=True)\n",
    "    df_R1.rename(columns={feature: 'R1_' + feature[9:]}, inplace=True)\n",
    "    df_R2.rename(columns={feature: 'R2_' + feature[9:]}, inplace=True)\n",
    "    \n",
    "df = pd.concat([df_PD[df_PD.columns[:-1]], df_MT[df_MT.columns[14:-1]], \n",
    "                df_R1[df_R1.columns[14:-1]], \n",
    "                df_R2[df_R2.columns[14:-1]], df_MT.outcome], axis = 1)\n",
    "\n",
    "df.to_csv(\"../results/features/features_CRC_qMRI_NAWM.csv\")"
   ]
  },
  {
   "cell_type": "markdown",
   "metadata": {},
   "source": [
    "GM"
   ]
  },
  {
   "cell_type": "code",
   "execution_count": null,
   "metadata": {},
   "outputs": [],
   "source": [
    "filename_PD = \"../results/features/features_CRC_PD_GM.csv\"\n",
    "filename_MT = \"../results/features/features_CRC_MT_GM.csv\"\n",
    "filename_R1 = \"../results/features/features_CRC_R1_GM.csv\"\n",
    "filename_R2 = \"../results/features/features_CRC_R2s_GM.csv\"\n",
    "\n",
    "df_PD = pd.read_csv(filename_PD)\n",
    "df_MT = pd.read_csv(filename_MT)\n",
    "df_R1 = pd.read_csv(filename_R1)\n",
    "df_R2 = pd.read_csv(filename_R2)\n",
    "\n",
    "df_PD.set_index('sub', inplace = True)\n",
    "df_MT.set_index('sub', inplace = True)\n",
    "df_R1.set_index('sub', inplace = True)\n",
    "df_R2.set_index('sub', inplace = True)\n",
    "\n",
    "features = df_PD.columns[14:-1]\n",
    "\n",
    "for feature in features:\n",
    "    \n",
    "    df_PD.rename(columns={feature: 'PD_' + feature[9:]}, inplace=True)\n",
    "    df_MT.rename(columns={feature: 'MT_' + feature[9:]}, inplace=True)\n",
    "    df_R1.rename(columns={feature: 'R1_' + feature[9:]}, inplace=True)\n",
    "    df_R2.rename(columns={feature: 'R2_' + feature[9:]}, inplace=True)\n",
    "    \n",
    "df = pd.concat([df_PD[df_PD.columns[:-1]], df_MT[df_MT.columns[14:-1]], \n",
    "                df_R1[df_R1.columns[14:-1]], \n",
    "                df_R2[df_R2.columns[14:-1]], df_MT.outcome], axis = 1)\n",
    "\n",
    "df.to_csv(\"../results/features/features_CRC_qMRI_GM.csv\")"
   ]
  },
  {
   "cell_type": "markdown",
   "metadata": {},
   "source": [
    "Adding outcome column: 0 - HCS, 1 - MSPA"
   ]
  },
  {
   "cell_type": "code",
   "execution_count": null,
   "metadata": {},
   "outputs": [],
   "source": [
    "# DS1\n",
    "\n",
    "ds1_outcomes = np.concatenate((np.zeros(36), np.ones(36))).astype(int)\n",
    "roi_list = ['WM', 'NAWM', 'GM']\n",
    "mod_list = ['T1w', 'PD', 'MT', 'R1', 'R2s']\n",
    "\n",
    "filenames = glob.glob('../results/features/features_CRC*M.csv')\n",
    "for file in filenames:\n",
    "    df = pd.read_csv(filenames)\n",
    "    df['outcome'] = ds1_outcomes\n",
    "    df.to_csv(filename)"
   ]
  },
  {
   "cell_type": "code",
   "execution_count": null,
   "metadata": {},
   "outputs": [],
   "source": [
    "# DS2\n",
    "\n",
    "filenames = glob.glob('../results/features/features_CC359*.csv')\n",
    "for file in filenames:\n",
    "    df = pd.read_csv(filenames)\n",
    "    df['outcome'] = np.zeros(len(df))\n",
    "    df.to_csv(filename)"
   ]
  },
  {
   "cell_type": "code",
   "execution_count": null,
   "metadata": {},
   "outputs": [],
   "source": [
    "# DS3\n",
    "\n",
    "filenames = glob.glob('../results/features/features_MSSEG*.csv')\n",
    "for file in filenames:\n",
    "    df = pd.read_csv(filenames)\n",
    "    df['outcome'] = np.ones(len(df))\n",
    "    df.to_csv(filename)"
   ]
  },
  {
   "cell_type": "markdown",
   "metadata": {},
   "source": [
    "# Features analysis"
   ]
  },
  {
   "cell_type": "code",
   "execution_count": 8,
   "metadata": {},
   "outputs": [],
   "source": [
    "from scipy import stats\n",
    "from sklearn.metrics import auc\n",
    "import scipy as sp\n",
    "from statsmodels.stats import multitest"
   ]
  },
  {
   "cell_type": "code",
   "execution_count": 9,
   "metadata": {},
   "outputs": [],
   "source": [
    "def computeUnivarAUC(f_vector, outcome):\n",
    "    \n",
    "    # estimation of AUC for binary classifier, built on input feature\n",
    "    \n",
    "    # input:\n",
    "    # f_vector - values of the given feature (1D array of float),\n",
    "    # outcome - values of binary outcome, corresponding to observations in f_vector (1D array of integer)\n",
    "    \n",
    "    # output:\n",
    "    # auc - AUC value (float)\n",
    "\n",
    "    mean_0 = np.mean(f_vector[np.where(outcome == 0)])\n",
    "    mean_1 = np.mean(f_vector[np.where(outcome == 1)])\n",
    "\n",
    "    feature_min = np.min(f_vector)\n",
    "    feature_max = np.max(f_vector)\n",
    "\n",
    "    step = (feature_max - feature_min)/100\n",
    "\n",
    "    P = np.sum(outcome == 1)\n",
    "    N = np.sum(outcome == 0)\n",
    "\n",
    "    th = []\n",
    "    tprs = []\n",
    "    fprs = []\n",
    "    \n",
    "    if mean_0 > mean_1:\n",
    "\n",
    "        for i in range (0, 102):\n",
    "            t = feature_min + i*step\n",
    "            th.append(t)\n",
    "            y_pred = (f_vector <= t).astype(int)\n",
    "            tp = np.sum(y_pred[np.where(outcome == 1)])\n",
    "            fp = np.sum(y_pred[np.where(outcome == 0)])\n",
    "            tpr = tp/P\n",
    "            fpr = fp/N\n",
    "            tprs.append(tpr)\n",
    "            fprs.append(fpr)\n",
    "            \n",
    "    else:\n",
    "        \n",
    "        for i in range (0, 102):\n",
    "            t = feature_min + i*step\n",
    "            th.append(t)\n",
    "            y_pred = (f_vector > t).astype(int)\n",
    "            tp = np.sum(y_pred[np.where(outcome == 1)])\n",
    "            fp = np.sum(y_pred[np.where(outcome == 0)])\n",
    "            tpr = tp/P\n",
    "            fpr = fp/N\n",
    "            tprs.append(tpr)\n",
    "            fprs.append(fpr)\n",
    "            \n",
    "    return (auc(fprs, tprs))"
   ]
  },
  {
   "cell_type": "markdown",
   "metadata": {},
   "source": [
    "reading features datasets"
   ]
  },
  {
   "cell_type": "code",
   "execution_count": 11,
   "metadata": {},
   "outputs": [],
   "source": [
    "f = open('../results/names/ds1_names.txt', 'r')\n",
    "ds_names = f.read().split('\\n')\n",
    "f.close()\n",
    "ds_names = ds_names[:-1]\n",
    "\n",
    "ds_names_HC = [s for s in ds_names if 'MSHS' in s]\n",
    "ds_names_PA = [s for s in ds_names if 'MSPA' in s]\n",
    "\n",
    "filename_descr = '../data/description/CRC_description.csv'\n",
    "filename_featr = ['../results/features/features_CRC_T1w_WM.csv', '../results/features/features_CRC_PD_WM.csv', \n",
    "                  '../results/features/features_CRC_MT_WM.csv', '../results/features/features_CRC_R1_WM.csv', \n",
    "                  '../results/features/features_CRC_R2s_WM.csv', '../results/features/features_CRC_T1w_NAWM.csv', \n",
    "                  '../results/features/features_CRC_PD_NAWM.csv', '../results/features/features_CRC_MT_NAWM.csv', \n",
    "                  '../results/features/features_CRC_R1_NAWM.csv', '../results/features/features_CRC_R2s_NAWM.csv', \n",
    "                  '../results/features/features_CRC_T1w_GM.csv', '../results/features/features_CRC_PD_GM.csv', \n",
    "                  '../results/features/features_CRC_MT_GM.csv', '../results/features/features_CRC_R1_GM.csv', \n",
    "                  '../results/features/features_CRC_R2s_GM.csv']\n",
    "\n",
    "ds_descr = pd.read_csv(filename_descr, index_col=0)\n",
    "ds_descr = ds_descr.reindex(ds_names)\n",
    "\n",
    "ds_featr = {}\n",
    "modrois = []\n",
    "\n",
    "for filename in filename_featr:\n",
    "    modroi = filename.split('_')[-2] + '_' + filename.split('_')[-1][:-4]\n",
    "    modrois.append(modroi)\n",
    "    ds = pd.read_csv(filename, index_col=0)\n",
    "    ds = ds.reindex(ds_names)\n",
    "    ds_featr[modroi] = ds\n",
    "\n",
    "features = ds_featr[modrois[0]].columns[14:-1]\n",
    "\n",
    "for feature in features:\n",
    "    \n",
    "    for modroi in modrois:\n",
    "        ds_featr[modroi].rename(columns={feature: modroi + '_' + feature[9:]}, inplace=True)\n",
    "\n",
    "df = ds_featr[modrois[0]]\n",
    "\n",
    "for modroi in modrois[1:]:\n",
    "    df = pd.concat([df, ds_featr[modroi][ds_featr[modroi].columns[14:-1]]], axis = 1)\n",
    "    \n",
    "features = list(df.columns.values)\n",
    "features.remove('outcome')"
   ]
  },
  {
   "cell_type": "markdown",
   "metadata": {},
   "source": [
    "calculating characteristics for every feature"
   ]
  },
  {
   "cell_type": "code",
   "execution_count": 12,
   "metadata": {},
   "outputs": [],
   "source": [
    "feature_characteristics = []\n",
    "p_MW = []\n",
    "\n",
    "for feature in features:\n",
    "    rec = {'feature': feature}\n",
    "    y = np.array(df[feature])\n",
    "    rec['age_corr'] = stats.spearmanr(ds_descr.age, y)[0]\n",
    "    rec['volume_corr'] = stats.spearmanr(df['original_shape_MeshVolume'], y)[0]\n",
    "    rec['outcome_corr'] = stats.spearmanr(df['outcome'], y)[0]\n",
    "    rec['univar_auc'] = computeUnivarAUC(y, df['outcome'])\n",
    "    feature_characteristics.append(rec)\n",
    "    s, p = sp.stats.mannwhitneyu(df.reindex(ds_names_HC)[feature].astype(float), \n",
    "                                 df.reindex(ds_names_PA)[feature].astype(float), \n",
    "                                 alternative = 'two-sided')\n",
    "    p_MW.append(p)\n",
    "    \n",
    "reject, p_MW_corr, a_S_corr, a_B_corr = multitest.multipletests(p_MW, alpha = 0.01, method = 'bonferroni')\n",
    "\n",
    "feature_characteristics = pd.DataFrame(feature_characteristics)\n",
    "feature_characteristics.set_index('feature', inplace = True)\n",
    "feature_characteristics['p_MW_corr'] = p_MW_corr"
   ]
  },
  {
   "cell_type": "markdown",
   "metadata": {},
   "source": [
    "saving to .csv"
   ]
  },
  {
   "cell_type": "code",
   "execution_count": null,
   "metadata": {},
   "outputs": [],
   "source": [
    "feature_characteristics.to_csv('../results/features_analysis/features_analysis.csv')"
   ]
  },
  {
   "cell_type": "code",
   "execution_count": null,
   "metadata": {},
   "outputs": [],
   "source": [
    "feature_characteristics = pd.read_csv('../results/features_analysis/features_analysis.csv', index_col = 0)"
   ]
  },
  {
   "cell_type": "markdown",
   "metadata": {},
   "source": [
    "Checking the features, which are correlated to age, volume, and outcome (threshold r = 0.85), and have potential to distinguish between HCS and MSP in terms of univariate AUC (threshold AUC = 0.75), and Mann-Whitney test for means (threshold p = 0.01, with Bonferroni correction) "
   ]
  },
  {
   "cell_type": "code",
   "execution_count": 13,
   "metadata": {},
   "outputs": [],
   "source": [
    "# setting the threshold\n",
    "age_corr_th = np.abs(feature_characteristics.age_corr) > 0.85\n",
    "volume_corr_th = np.abs(feature_characteristics.volume_corr) > 0.85\n",
    "outcome_corr_th = np.abs(feature_characteristics.outcome_corr) > 0.85\n",
    "univar_auc_th = np.abs(feature_characteristics.univar_auc) > 0.75\n",
    "p_MW_th = np.abs(feature_characteristics.p_MW_corr) < 0.01"
   ]
  },
  {
   "cell_type": "code",
   "execution_count": 14,
   "metadata": {},
   "outputs": [],
   "source": [
    "# getting the features\n",
    "age_corr_pos = age_corr_th.loc[age_corr_th == True].index.values\n",
    "volume_corr_pos = volume_corr_th.loc[volume_corr_th == True].index.values\n",
    "outcome_corr_pos = outcome_corr_th.loc[outcome_corr_th == True].index.values\n",
    "univar_auc_pos = univar_auc_th.loc[univar_auc_th == True].index.values\n",
    "p_MW_pos = p_MW_th.loc[p_MW_th == True].index.values"
   ]
  },
  {
   "cell_type": "code",
   "execution_count": 15,
   "metadata": {},
   "outputs": [],
   "source": [
    "# counting detected features within each ROI and image type\n",
    "age_corr_pos_df = []\n",
    "age_corr_pos_n_df = []\n",
    "volume_corr_pos_df = []\n",
    "volume_corr_pos_n_df = []\n",
    "outcome_corr_pos_df = []\n",
    "outcome_corr_pos_n_df = []\n",
    "univar_auc_pos_df = []\n",
    "univar_auc_pos_n_df = []\n",
    "p_MW_pos_df = []\n",
    "p_MW_pos_n_df = []\n",
    "\n",
    "roi_list = ['WM', 'NAWM', 'GM']\n",
    "mod_list = ['T1w', 'PD', 'MT', 'R1', 'R2s']\n",
    "for roi in roi_list:\n",
    "    \n",
    "    age_corr_rec = {'ROI': roi}\n",
    "    age_corr_n_rec = {'ROI': roi}\n",
    "    volume_corr_rec = {'ROI': roi}\n",
    "    volume_corr_n_rec = {'ROI': roi}\n",
    "    outcome_corr_rec = {'ROI': roi}\n",
    "    outcome_corr_n_rec = {'ROI': roi}\n",
    "    univar_auc_rec = {'ROI': roi}\n",
    "    univar_auc_n_rec = {'ROI': roi}\n",
    "    p_MW_rec = {'ROI': roi}\n",
    "    p_MW_n_rec = {'ROI': roi}\n",
    "    \n",
    "    for mod in mod_list:    \n",
    "        age_corr_rec[mod] = [s for s in age_corr_pos if (mod + '_' + roi) in s]\n",
    "        age_corr_n_rec[mod] = len([s for s in age_corr_pos if (mod + '_' + roi) in s])\n",
    "        volume_corr_rec[mod] = [s for s in volume_corr_pos if (mod + '_' + roi) in s]\n",
    "        volume_corr_n_rec[mod] = len([s for s in volume_corr_pos if (mod + '_' + roi) in s])\n",
    "        outcome_corr_rec[mod] = [s for s in outcome_corr_pos if (mod + '_' + roi) in s]\n",
    "        outcome_corr_n_rec[mod] = len([s for s in outcome_corr_pos if (mod + '_' + roi) in s])\n",
    "        univar_auc_rec[mod] = [s for s in univar_auc_pos if (mod + '_' + roi) in s]\n",
    "        univar_auc_n_rec[mod] = len([s for s in univar_auc_pos if (mod + '_' + roi) in s])\n",
    "        p_MW_rec[mod] = [s for s in p_MW_pos if (mod + '_' + roi) in s]\n",
    "        p_MW_n_rec[mod] = len([s for s in p_MW_pos if (mod + '_' + roi) in s])\n",
    "        \n",
    "    age_corr_pos_df.append(age_corr_rec)\n",
    "    age_corr_pos_n_df.append(age_corr_n_rec)\n",
    "    volume_corr_pos_df.append(volume_corr_rec)\n",
    "    volume_corr_pos_n_df.append(volume_corr_n_rec)\n",
    "    outcome_corr_pos_df.append(outcome_corr_rec)\n",
    "    outcome_corr_pos_n_df.append(outcome_corr_n_rec)\n",
    "    univar_auc_pos_df.append(univar_auc_rec)\n",
    "    univar_auc_pos_n_df.append(univar_auc_n_rec)\n",
    "    p_MW_pos_df.append(p_MW_rec)\n",
    "    p_MW_pos_n_df.append(p_MW_n_rec)\n",
    "    \n",
    "age_corr_pos_df = pd.DataFrame(age_corr_pos_df)\n",
    "age_corr_pos_n_df = pd.DataFrame(age_corr_pos_n_df)\n",
    "volume_corr_pos_df = pd.DataFrame(volume_corr_pos_df)\n",
    "volume_corr_pos_n_df = pd.DataFrame(volume_corr_pos_n_df)\n",
    "outcome_corr_pos_df = pd.DataFrame(outcome_corr_pos_df)\n",
    "outcome_corr_pos_n_df = pd.DataFrame(outcome_corr_pos_n_df)\n",
    "univar_auc_pos_df = pd.DataFrame(univar_auc_pos_df)\n",
    "univar_auc_pos_n_df = pd.DataFrame(univar_auc_pos_n_df)\n",
    "p_MW_pos_df = pd.DataFrame(p_MW_pos_df)\n",
    "p_MW_pos_n_df = pd.DataFrame(p_MW_pos_n_df)\n",
    "\n",
    "age_corr_pos_df.set_index('ROI', inplace = True)\n",
    "age_corr_pos_n_df.set_index('ROI', inplace = True)\n",
    "volume_corr_pos_df.set_index('ROI', inplace = True)\n",
    "volume_corr_pos_n_df.set_index('ROI', inplace = True)\n",
    "outcome_corr_pos_df.set_index('ROI', inplace = True)\n",
    "outcome_corr_pos_n_df.set_index('ROI', inplace = True)\n",
    "univar_auc_pos_df.set_index('ROI', inplace = True)\n",
    "univar_auc_pos_n_df.set_index('ROI', inplace = True)\n",
    "p_MW_pos_df.set_index('ROI', inplace = True)\n",
    "p_MW_pos_n_df.set_index('ROI', inplace = True)"
   ]
  },
  {
   "cell_type": "code",
   "execution_count": 16,
   "metadata": {},
   "outputs": [
    {
     "name": "stdout",
     "output_type": "stream",
     "text": [
      "Number of features with age correlation\n"
     ]
    },
    {
     "data": {
      "text/html": [
       "<div>\n",
       "<style scoped>\n",
       "    .dataframe tbody tr th:only-of-type {\n",
       "        vertical-align: middle;\n",
       "    }\n",
       "\n",
       "    .dataframe tbody tr th {\n",
       "        vertical-align: top;\n",
       "    }\n",
       "\n",
       "    .dataframe thead th {\n",
       "        text-align: right;\n",
       "    }\n",
       "</style>\n",
       "<table border=\"1\" class=\"dataframe\">\n",
       "  <thead>\n",
       "    <tr style=\"text-align: right;\">\n",
       "      <th></th>\n",
       "      <th>T1w</th>\n",
       "      <th>PD</th>\n",
       "      <th>MT</th>\n",
       "      <th>R1</th>\n",
       "      <th>R2s</th>\n",
       "    </tr>\n",
       "    <tr>\n",
       "      <th>ROI</th>\n",
       "      <th></th>\n",
       "      <th></th>\n",
       "      <th></th>\n",
       "      <th></th>\n",
       "      <th></th>\n",
       "    </tr>\n",
       "  </thead>\n",
       "  <tbody>\n",
       "    <tr>\n",
       "      <th>WM</th>\n",
       "      <td>0</td>\n",
       "      <td>0</td>\n",
       "      <td>0</td>\n",
       "      <td>0</td>\n",
       "      <td>0</td>\n",
       "    </tr>\n",
       "    <tr>\n",
       "      <th>NAWM</th>\n",
       "      <td>0</td>\n",
       "      <td>0</td>\n",
       "      <td>0</td>\n",
       "      <td>0</td>\n",
       "      <td>0</td>\n",
       "    </tr>\n",
       "    <tr>\n",
       "      <th>GM</th>\n",
       "      <td>0</td>\n",
       "      <td>0</td>\n",
       "      <td>0</td>\n",
       "      <td>0</td>\n",
       "      <td>0</td>\n",
       "    </tr>\n",
       "  </tbody>\n",
       "</table>\n",
       "</div>"
      ],
      "text/plain": [
       "      T1w  PD  MT  R1  R2s\n",
       "ROI                       \n",
       "WM    0    0   0   0   0  \n",
       "NAWM  0    0   0   0   0  \n",
       "GM    0    0   0   0   0  "
      ]
     },
     "metadata": {},
     "output_type": "display_data"
    },
    {
     "name": "stdout",
     "output_type": "stream",
     "text": [
      "Number of features with volume correlation\n"
     ]
    },
    {
     "data": {
      "text/html": [
       "<div>\n",
       "<style scoped>\n",
       "    .dataframe tbody tr th:only-of-type {\n",
       "        vertical-align: middle;\n",
       "    }\n",
       "\n",
       "    .dataframe tbody tr th {\n",
       "        vertical-align: top;\n",
       "    }\n",
       "\n",
       "    .dataframe thead th {\n",
       "        text-align: right;\n",
       "    }\n",
       "</style>\n",
       "<table border=\"1\" class=\"dataframe\">\n",
       "  <thead>\n",
       "    <tr style=\"text-align: right;\">\n",
       "      <th></th>\n",
       "      <th>T1w</th>\n",
       "      <th>PD</th>\n",
       "      <th>MT</th>\n",
       "      <th>R1</th>\n",
       "      <th>R2s</th>\n",
       "    </tr>\n",
       "    <tr>\n",
       "      <th>ROI</th>\n",
       "      <th></th>\n",
       "      <th></th>\n",
       "      <th></th>\n",
       "      <th></th>\n",
       "      <th></th>\n",
       "    </tr>\n",
       "  </thead>\n",
       "  <tbody>\n",
       "    <tr>\n",
       "      <th>WM</th>\n",
       "      <td>0</td>\n",
       "      <td>3</td>\n",
       "      <td>1</td>\n",
       "      <td>1</td>\n",
       "      <td>0</td>\n",
       "    </tr>\n",
       "    <tr>\n",
       "      <th>NAWM</th>\n",
       "      <td>0</td>\n",
       "      <td>3</td>\n",
       "      <td>1</td>\n",
       "      <td>1</td>\n",
       "      <td>0</td>\n",
       "    </tr>\n",
       "    <tr>\n",
       "      <th>GM</th>\n",
       "      <td>0</td>\n",
       "      <td>0</td>\n",
       "      <td>0</td>\n",
       "      <td>0</td>\n",
       "      <td>0</td>\n",
       "    </tr>\n",
       "  </tbody>\n",
       "</table>\n",
       "</div>"
      ],
      "text/plain": [
       "      T1w  PD  MT  R1  R2s\n",
       "ROI                       \n",
       "WM    0    3   1   1   0  \n",
       "NAWM  0    3   1   1   0  \n",
       "GM    0    0   0   0   0  "
      ]
     },
     "metadata": {},
     "output_type": "display_data"
    },
    {
     "name": "stdout",
     "output_type": "stream",
     "text": [
      "Number of features with outcome correlation\n"
     ]
    },
    {
     "data": {
      "text/html": [
       "<div>\n",
       "<style scoped>\n",
       "    .dataframe tbody tr th:only-of-type {\n",
       "        vertical-align: middle;\n",
       "    }\n",
       "\n",
       "    .dataframe tbody tr th {\n",
       "        vertical-align: top;\n",
       "    }\n",
       "\n",
       "    .dataframe thead th {\n",
       "        text-align: right;\n",
       "    }\n",
       "</style>\n",
       "<table border=\"1\" class=\"dataframe\">\n",
       "  <thead>\n",
       "    <tr style=\"text-align: right;\">\n",
       "      <th></th>\n",
       "      <th>T1w</th>\n",
       "      <th>PD</th>\n",
       "      <th>MT</th>\n",
       "      <th>R1</th>\n",
       "      <th>R2s</th>\n",
       "    </tr>\n",
       "    <tr>\n",
       "      <th>ROI</th>\n",
       "      <th></th>\n",
       "      <th></th>\n",
       "      <th></th>\n",
       "      <th></th>\n",
       "      <th></th>\n",
       "    </tr>\n",
       "  </thead>\n",
       "  <tbody>\n",
       "    <tr>\n",
       "      <th>WM</th>\n",
       "      <td>0</td>\n",
       "      <td>0</td>\n",
       "      <td>0</td>\n",
       "      <td>1</td>\n",
       "      <td>0</td>\n",
       "    </tr>\n",
       "    <tr>\n",
       "      <th>NAWM</th>\n",
       "      <td>0</td>\n",
       "      <td>0</td>\n",
       "      <td>0</td>\n",
       "      <td>0</td>\n",
       "      <td>0</td>\n",
       "    </tr>\n",
       "    <tr>\n",
       "      <th>GM</th>\n",
       "      <td>0</td>\n",
       "      <td>0</td>\n",
       "      <td>0</td>\n",
       "      <td>0</td>\n",
       "      <td>0</td>\n",
       "    </tr>\n",
       "  </tbody>\n",
       "</table>\n",
       "</div>"
      ],
      "text/plain": [
       "      T1w  PD  MT  R1  R2s\n",
       "ROI                       \n",
       "WM    0    0   0   1   0  \n",
       "NAWM  0    0   0   0   0  \n",
       "GM    0    0   0   0   0  "
      ]
     },
     "metadata": {},
     "output_type": "display_data"
    },
    {
     "name": "stdout",
     "output_type": "stream",
     "text": [
      "Number of features with high univariate AUC\n"
     ]
    },
    {
     "data": {
      "text/html": [
       "<div>\n",
       "<style scoped>\n",
       "    .dataframe tbody tr th:only-of-type {\n",
       "        vertical-align: middle;\n",
       "    }\n",
       "\n",
       "    .dataframe tbody tr th {\n",
       "        vertical-align: top;\n",
       "    }\n",
       "\n",
       "    .dataframe thead th {\n",
       "        text-align: right;\n",
       "    }\n",
       "</style>\n",
       "<table border=\"1\" class=\"dataframe\">\n",
       "  <thead>\n",
       "    <tr style=\"text-align: right;\">\n",
       "      <th></th>\n",
       "      <th>T1w</th>\n",
       "      <th>PD</th>\n",
       "      <th>MT</th>\n",
       "      <th>R1</th>\n",
       "      <th>R2s</th>\n",
       "    </tr>\n",
       "    <tr>\n",
       "      <th>ROI</th>\n",
       "      <th></th>\n",
       "      <th></th>\n",
       "      <th></th>\n",
       "      <th></th>\n",
       "      <th></th>\n",
       "    </tr>\n",
       "  </thead>\n",
       "  <tbody>\n",
       "    <tr>\n",
       "      <th>WM</th>\n",
       "      <td>13</td>\n",
       "      <td>62</td>\n",
       "      <td>21</td>\n",
       "      <td>45</td>\n",
       "      <td>52</td>\n",
       "    </tr>\n",
       "    <tr>\n",
       "      <th>NAWM</th>\n",
       "      <td>8</td>\n",
       "      <td>28</td>\n",
       "      <td>57</td>\n",
       "      <td>9</td>\n",
       "      <td>37</td>\n",
       "    </tr>\n",
       "    <tr>\n",
       "      <th>GM</th>\n",
       "      <td>3</td>\n",
       "      <td>7</td>\n",
       "      <td>26</td>\n",
       "      <td>5</td>\n",
       "      <td>22</td>\n",
       "    </tr>\n",
       "  </tbody>\n",
       "</table>\n",
       "</div>"
      ],
      "text/plain": [
       "      T1w  PD  MT  R1  R2s\n",
       "ROI                       \n",
       "WM    13   62  21  45  52 \n",
       "NAWM  8    28  57  9   37 \n",
       "GM    3    7   26  5   22 "
      ]
     },
     "metadata": {},
     "output_type": "display_data"
    },
    {
     "name": "stdout",
     "output_type": "stream",
     "text": [
      "Number of features with statistically significant difference in groups\n"
     ]
    },
    {
     "data": {
      "text/html": [
       "<div>\n",
       "<style scoped>\n",
       "    .dataframe tbody tr th:only-of-type {\n",
       "        vertical-align: middle;\n",
       "    }\n",
       "\n",
       "    .dataframe tbody tr th {\n",
       "        vertical-align: top;\n",
       "    }\n",
       "\n",
       "    .dataframe thead th {\n",
       "        text-align: right;\n",
       "    }\n",
       "</style>\n",
       "<table border=\"1\" class=\"dataframe\">\n",
       "  <thead>\n",
       "    <tr style=\"text-align: right;\">\n",
       "      <th></th>\n",
       "      <th>T1w</th>\n",
       "      <th>PD</th>\n",
       "      <th>MT</th>\n",
       "      <th>R1</th>\n",
       "      <th>R2s</th>\n",
       "    </tr>\n",
       "    <tr>\n",
       "      <th>ROI</th>\n",
       "      <th></th>\n",
       "      <th></th>\n",
       "      <th></th>\n",
       "      <th></th>\n",
       "      <th></th>\n",
       "    </tr>\n",
       "  </thead>\n",
       "  <tbody>\n",
       "    <tr>\n",
       "      <th>WM</th>\n",
       "      <td>9</td>\n",
       "      <td>41</td>\n",
       "      <td>10</td>\n",
       "      <td>37</td>\n",
       "      <td>7</td>\n",
       "    </tr>\n",
       "    <tr>\n",
       "      <th>NAWM</th>\n",
       "      <td>0</td>\n",
       "      <td>12</td>\n",
       "      <td>42</td>\n",
       "      <td>5</td>\n",
       "      <td>26</td>\n",
       "    </tr>\n",
       "    <tr>\n",
       "      <th>GM</th>\n",
       "      <td>1</td>\n",
       "      <td>0</td>\n",
       "      <td>18</td>\n",
       "      <td>2</td>\n",
       "      <td>10</td>\n",
       "    </tr>\n",
       "  </tbody>\n",
       "</table>\n",
       "</div>"
      ],
      "text/plain": [
       "      T1w  PD  MT  R1  R2s\n",
       "ROI                       \n",
       "WM    9    41  10  37  7  \n",
       "NAWM  0    12  42  5   26 \n",
       "GM    1    0   18  2   10 "
      ]
     },
     "metadata": {},
     "output_type": "display_data"
    }
   ],
   "source": [
    "# distribution of the detected features in ROI and image types\n",
    "print ('Number of features with age correlation')\n",
    "display (age_corr_pos_n_df)\n",
    "\n",
    "print ('Number of features with volume correlation')\n",
    "display (volume_corr_pos_n_df)\n",
    "\n",
    "print ('Number of features with outcome correlation')\n",
    "display (outcome_corr_pos_n_df)\n",
    "\n",
    "print ('Number of features with high univariate AUC')\n",
    "display (univar_auc_pos_n_df)\n",
    "\n",
    "print ('Number of features with statistically significant difference in groups')\n",
    "display (p_MW_pos_n_df)"
   ]
  },
  {
   "cell_type": "code",
   "execution_count": null,
   "metadata": {},
   "outputs": [],
   "source": []
  }
 ],
 "metadata": {
  "kernelspec": {
   "display_name": "Python 3",
   "language": "python",
   "name": "python3"
  },
  "language_info": {
   "codemirror_mode": {
    "name": "ipython",
    "version": 3
   },
   "file_extension": ".py",
   "mimetype": "text/x-python",
   "name": "python",
   "nbconvert_exporter": "python",
   "pygments_lexer": "ipython3",
   "version": "3.7.6"
  }
 },
 "nbformat": 4,
 "nbformat_minor": 2
}
